{
 "cells": [
  {
   "cell_type": "code",
   "execution_count": 3,
   "id": "0c6d8f69",
   "metadata": {},
   "outputs": [
    {
     "name": "stdout",
     "output_type": "stream",
     "text": [
      "--------------------------------------------------\n",
      "Mulai pra-pemrosesan untuk: data/images/1. DATA EKSPRESI WAJAH KRISI BUNUH DIRI\n",
      "Ditemukan 2100 gambar.\n",
      "Selesai! 2100 dari 2100 gambar berhasil diproses.\n",
      "File .npy disimpan di: data/calibration/face_expression\n",
      "--------------------------------------------------\n",
      "--------------------------------------------------\n",
      "Mulai pra-pemrosesan untuk: data/images/2. SKENARIO PSIKOLOGI REMAJA\n",
      "Ditemukan 554 gambar.\n",
      "Selesai! 554 dari 554 gambar berhasil diproses.\n",
      "File .npy disimpan di: data/calibration/pose_recognition\n",
      "--------------------------------------------------\n"
     ]
    }
   ],
   "source": [
    "import os\n",
    "import glob\n",
    "import numpy as np\n",
    "from PIL import Image\n",
    "\n",
    "def preprocess_and_save(image_path, output_path, target_shape):\n",
    "    \"\"\"Memuat gambar, mengubah ukuran, dan menyimpannya sebagai .npy\"\"\"\n",
    "    try:\n",
    "        img = Image.open(image_path).convert('RGB')\n",
    "        img_resized = img.resize(target_shape[::-1]) # PIL butuh (lebar, tinggi)\n",
    "        img_array = np.array(img_resized)\n",
    "        img_normalized = img_array.astype(np.float32) / 255.0\n",
    "        np.save(output_path, img_normalized)\n",
    "        return True\n",
    "    except Exception as e:\n",
    "        print(f\"Gagal memproses {image_path}: {e}\")\n",
    "        return False\n",
    "\n",
    "def run_conversion(input_dir, output_dir, model_input_shape):\n",
    "    \"\"\"Menjalankan proses konversi untuk satu set data.\"\"\"\n",
    "    print(\"-\" * 50)\n",
    "    print(f\"Mulai pra-pemrosesan untuk: {input_dir}\")\n",
    "    \n",
    "    os.makedirs(output_dir, exist_ok=True)\n",
    "    \n",
    "    image_paths = glob.glob(os.path.join(input_dir, '*.jpg')) + \\\n",
    "                  glob.glob(os.path.join(input_dir, '*.jpeg')) + \\\n",
    "                  glob.glob(os.path.join(input_dir, '*.png'))\n",
    "                  \n",
    "    if not image_paths:\n",
    "        print(f\"Peringatan: Tidak ada file gambar yang ditemukan di {input_dir}\")\n",
    "        return\n",
    "\n",
    "    print(f\"Ditemukan {len(image_paths)} gambar.\")\n",
    "    \n",
    "    processed_count = 0\n",
    "    for path in image_paths:\n",
    "        filename = os.path.basename(path)\n",
    "        name, _ = os.path.splitext(filename)\n",
    "        output_filepath = os.path.join(output_dir, f\"{name}.npy\")\n",
    "        \n",
    "        if preprocess_and_save(path, output_filepath, model_input_shape):\n",
    "            processed_count += 1\n",
    "\n",
    "    print(f\"Selesai! {processed_count} dari {len(image_paths)} gambar berhasil diproses.\")\n",
    "    print(f\"File .npy disimpan di: {output_dir}\")\n",
    "    print(\"-\" * 50)\n",
    "\n",
    "\n",
    "if __name__ == '__main__':\n",
    "    # --- PROSES DATASET PERTAMA ---\n",
    "    # Konfigurasi untuk \"DATA EKSPRESI WAJAH KRISI BUNUH DIRI\"\n",
    "    input_dir_1 = \"data/images/1. DATA EKSPRESI WAJAH KRISI BUNUH DIRI\"\n",
    "    output_dir_1 = \"data/calibration/face_expression\"\n",
    "    # !! PENTING: Ganti (48, 48) dengan ukuran yang benar untuk model EKSPRESI WAJAH !!\n",
    "    shape_1 = (48, 48)\n",
    "    run_conversion(input_dir_1, output_dir_1, shape_1)\n",
    "\n",
    "    # --- PROSES DATASET KEDUA ---\n",
    "    # Konfigurasi untuk \"SKENARIO PSIKOLOGI REMAJA\"\n",
    "    input_dir_2 = \"data/images/2. SKENARIO PSIKOLOGI REMAJA\"\n",
    "    output_dir_2 = \"data/calibration/pose_recognition\"\n",
    "    # !! PENTING: Ganti (256, 192) dengan ukuran yang benar untuk model POSE RECOGNITION !!\n",
    "    # Ukuran umum untuk pose recognition adalah (256, 192) atau (384, 288)\n",
    "    shape_2 = (224, 224)\n",
    "    run_conversion(input_dir_2, output_dir_2, shape_2)"
   ]
  }
 ],
 "metadata": {
  "kernelspec": {
   "display_name": "convert-model-to-hailo",
   "language": "python",
   "name": "python3"
  },
  "language_info": {
   "codemirror_mode": {
    "name": "ipython",
    "version": 3
   },
   "file_extension": ".py",
   "mimetype": "text/x-python",
   "name": "python",
   "nbconvert_exporter": "python",
   "pygments_lexer": "ipython3",
   "version": "3.13.3"
  }
 },
 "nbformat": 4,
 "nbformat_minor": 5
}
