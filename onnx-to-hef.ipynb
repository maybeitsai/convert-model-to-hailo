{
  "nbformat": 4,
  "nbformat_minor": 0,
  "metadata": {
    "colab": {
      "provenance": []
    },
    "kernelspec": {
      "name": "python3",
      "display_name": "Python 3"
    },
    "language_info": {
      "name": "python"
    }
  },
  "cells": [
    {
      "cell_type": "markdown",
      "source": [
        "## Membuat Virtual Environment"
      ],
      "metadata": {
        "id": "gV8BMH_9HOBO"
      }
    },
    {
      "cell_type": "code",
      "execution_count": 1,
      "metadata": {
        "colab": {
          "base_uri": "https://localhost:8080/"
        },
        "id": "rgfkEuQFG0zf",
        "outputId": "6301e561-4047-4fc3-84ce-60688fec5477"
      },
      "outputs": [
        {
          "output_type": "stream",
          "name": "stdout",
          "text": [
            "Collecting uv\n",
            "  Downloading uv-0.8.23-py3-none-manylinux_2_17_x86_64.manylinux2014_x86_64.whl.metadata (11 kB)\n",
            "Downloading uv-0.8.23-py3-none-manylinux_2_17_x86_64.manylinux2014_x86_64.whl (21.2 MB)\n",
            "\u001b[2K   \u001b[90m━━━━━━━━━━━━━━━━━━━━━━━━━━━━━━━━━━━━━━━━\u001b[0m \u001b[32m21.2/21.2 MB\u001b[0m \u001b[31m77.2 MB/s\u001b[0m eta \u001b[36m0:00:00\u001b[0m\n",
            "\u001b[?25hInstalling collected packages: uv\n",
            "Successfully installed uv-0.8.23\n",
            "\u001b[2mUsing Python 3.12.11 environment at: /usr\u001b[0m\n",
            "\u001b[2K\u001b[2mResolved \u001b[1m4 packages\u001b[0m \u001b[2min 137ms\u001b[0m\u001b[0m\n",
            "\u001b[2K\u001b[2mPrepared \u001b[1m2 packages\u001b[0m \u001b[2min 127ms\u001b[0m\u001b[0m\n",
            "\u001b[2K\u001b[2mInstalled \u001b[1m2 packages\u001b[0m \u001b[2min 6ms\u001b[0m\u001b[0m\n",
            " \u001b[32m+\u001b[39m \u001b[1mdistlib\u001b[0m\u001b[2m==0.4.0\u001b[0m\n",
            " \u001b[32m+\u001b[39m \u001b[1mvirtualenv\u001b[0m\u001b[2m==20.34.0\u001b[0m\n",
            "created virtual environment CPython3.10.12.final.0-64 in 1056ms\n",
            "  creator CPython3Posix(dest=/content/hailoworld, clear=False, no_vcs_ignore=False, global=False)\n",
            "  seeder FromAppData(download=False, pip=bundle, setuptools=bundle, via=copy, app_data_dir=/root/.local/share/virtualenv)\n",
            "    added seed packages: pip==25.2, setuptools==80.9.0\n",
            "  activators BashActivator,CShellActivator,FishActivator,NushellActivator,PowerShellActivator,PythonActivator\n"
          ]
        }
      ],
      "source": [
        "!pip install uv\n",
        "!uv pip install virtualenv\n",
        "!virtualenv hailoworld --py=3.10"
      ]
    },
    {
      "cell_type": "markdown",
      "source": [
        "## Download Hailo Compiler"
      ],
      "metadata": {
        "id": "rgCKblfRHST8"
      }
    },
    {
      "cell_type": "code",
      "source": [
        "!gdown \"1jopeKVCSCTWCSLTH5kfNtQvbp2EjJfEc\"\n",
        "!gdown \"1H8VBpLBGw2JeXRHk5sthBe-TYjMmfuW-\"\n",
        "!gdown \"1qDAssC3Qbzi9EuGJP4TpVzV5p1EYTfqU\""
      ],
      "metadata": {
        "colab": {
          "base_uri": "https://localhost:8080/"
        },
        "id": "tgnC8dcBHKTs",
        "outputId": "0d315aff-2c9f-4e62-f67b-27e1ed0c78b0"
      },
      "execution_count": 2,
      "outputs": [
        {
          "output_type": "stream",
          "name": "stdout",
          "text": [
            "Downloading...\n",
            "From (original): https://drive.google.com/uc?id=1jopeKVCSCTWCSLTH5kfNtQvbp2EjJfEc\n",
            "From (redirected): https://drive.google.com/uc?id=1jopeKVCSCTWCSLTH5kfNtQvbp2EjJfEc&confirm=t&uuid=3dcec474-9ec4-4ef8-8afd-ba5739624f9b\n",
            "To: /content/hailo_dataflow_compiler-3.33.0-py3-none-linux_x86_64.whl\n",
            "100% 512M/512M [00:10<00:00, 50.6MB/s]\n",
            "Downloading...\n",
            "From: https://drive.google.com/uc?id=1H8VBpLBGw2JeXRHk5sthBe-TYjMmfuW-\n",
            "To: /content/hailort-4.23.0-cp310-cp310-linux_x86_64.whl\n",
            "100% 9.98M/9.98M [00:00<00:00, 50.8MB/s]\n",
            "Downloading...\n",
            "From (original): https://drive.google.com/uc?id=1qDAssC3Qbzi9EuGJP4TpVzV5p1EYTfqU\n",
            "From (redirected): https://drive.google.com/uc?id=1qDAssC3Qbzi9EuGJP4TpVzV5p1EYTfqU&confirm=t&uuid=3366992d-e1f3-48d7-bde0-9a84953f52e1\n",
            "To: /content/hailort_4.23.0_amd64.deb\n",
            "100% 7.60M/7.60M [00:00<00:00, 46.9MB/s]\n"
          ]
        }
      ]
    },
    {
      "cell_type": "markdown",
      "source": [
        "## Terminal Execution (Linux)"
      ],
      "metadata": {
        "id": "JZUTyuh4LuQj"
      }
    },
    {
      "cell_type": "code",
      "source": [
        "# source hailoworld/bin/activate\n",
        "# sudo apt-get install -y graphviz graphviz-dev pkg-config\n",
        "# sudo dpkg -i ./hailort_4.23.0_amd64.deb\n",
        "# pip install ./hailort-4.23.0-cp310-cp310-linux_x86_64.whl\n",
        "# pip install ./hailo_dataflow_compiler-3.33.0-py3-none-linux_x86_64.whl\n",
        "# git clone https://github.com/hailo-ai/hailo_model_zoo\n",
        "# cd hailo_model_zoo\n",
        "# git checkout -b update-to-version-2.17 origin/update-to-version-2.17\n",
        "# pip install -e . --use-pep517 --config-settings editable_mode=compat --no-build-isolation\n",
        "# cd ..\n",
        "# git clone https://github.com/maybeitsai/convert-model-to-hailo.git"
      ],
      "metadata": {
        "id": "tzNpu340MieP"
      },
      "execution_count": null,
      "outputs": []
    },
    {
      "cell_type": "markdown",
      "source": [
        "## Cek model"
      ],
      "metadata": {
        "id": "rdUnWlkyUSG3"
      }
    },
    {
      "cell_type": "code",
      "source": [
        "!pip install onnx"
      ],
      "metadata": {
        "colab": {
          "base_uri": "https://localhost:8080/"
        },
        "id": "TH0zyASJh63-",
        "outputId": "4cd2f8aa-51a8-48fa-bca8-ee2587aa05fc"
      },
      "execution_count": null,
      "outputs": [
        {
          "output_type": "stream",
          "name": "stdout",
          "text": [
            "Collecting onnx\n",
            "  Downloading onnx-1.19.0-cp312-cp312-manylinux2014_x86_64.manylinux_2_17_x86_64.whl.metadata (7.0 kB)\n",
            "Requirement already satisfied: numpy>=1.22 in /usr/local/lib/python3.12/dist-packages (from onnx) (2.0.2)\n",
            "Requirement already satisfied: protobuf>=4.25.1 in /usr/local/lib/python3.12/dist-packages (from onnx) (5.29.5)\n",
            "Requirement already satisfied: typing_extensions>=4.7.1 in /usr/local/lib/python3.12/dist-packages (from onnx) (4.15.0)\n",
            "Requirement already satisfied: ml_dtypes in /usr/local/lib/python3.12/dist-packages (from onnx) (0.5.3)\n",
            "Downloading onnx-1.19.0-cp312-cp312-manylinux2014_x86_64.manylinux_2_17_x86_64.whl (18.2 MB)\n",
            "\u001b[2K   \u001b[90m━━━━━━━━━━━━━━━━━━━━━━━━━━━━━━━━━━━━━━━━\u001b[0m \u001b[32m18.2/18.2 MB\u001b[0m \u001b[31m108.1 MB/s\u001b[0m eta \u001b[36m0:00:00\u001b[0m\n",
            "\u001b[?25hInstalling collected packages: onnx\n",
            "Successfully installed onnx-1.19.0\n"
          ]
        }
      ]
    },
    {
      "cell_type": "code",
      "source": [
        "import onnx\n",
        "\n",
        "model = onnx.load(\"/content/convert-model-to-hailo/models/onnx/face-expression.onnx\")\n",
        "print(\"Inputs:\", [i.name for i in model.graph.input]) # ambil nama array ny dari sini buat masukin ke flag `--start/end-node-names`\n",
        "print(\"Outputs:\", [o.name for o in model.graph.output])  # dan ini"
      ],
      "metadata": {
        "colab": {
          "base_uri": "https://localhost:8080/"
        },
        "id": "NO0fTZg3UIfe",
        "outputId": "becc1863-9c1e-40d8-e503-1ab47812ae7e"
      },
      "execution_count": null,
      "outputs": [
        {
          "output_type": "stream",
          "name": "stdout",
          "text": [
            "Inputs: ['input']\n",
            "Outputs: ['output']\n"
          ]
        }
      ]
    },
    {
      "cell_type": "markdown",
      "source": [
        "## Convert to .har"
      ],
      "metadata": {
        "id": "JkXcH5MxiRJh"
      }
    },
    {
      "cell_type": "code",
      "source": [
        "# USE GPU\n",
        "# hailo parser onnx /content/convert-model-to-hailo/models/onnx/face-expression.onnx \\\n",
        "#   --hw-arch hailo8 \\\n",
        "#   --start-node-names input \\\n",
        "#   --end-node-names output\n",
        "\n",
        "# mkdir -p convert-model-to-hailo/models/har && \\\n",
        "# mv face-expression.har convert-model-to-hailo/models/har/\n",
        "\n",
        "# hailo parser onnx /content/convert-model-to-hailo/models/onnx/pose-recognition.onnx \\\n",
        "#   --hw-arch hailo8 \\\n",
        "#   --start-node-names input \\\n",
        "#   --end-node-names output\n",
        "\n",
        "# mkdir -p convert-model-to-hailo/models/har && \\\n",
        "# mv pose-recognition.har convert-model-to-hailo/models/har/\n",
        "\n",
        "\n",
        "# USE CPU\n",
        "# CUDA_VISIBLE_DEVICES=-1 hailo parser onnx /content/convert-model-to-hailo/models/onnx/face-expression.onnx \\\n",
        "#   --hw-arch hailo8 \\\n",
        "#   --start-node-names input \\\n",
        "#   --end-node-names output\n",
        "\n",
        "# CUDA_VISIBLE_DEVICES=-1 hailo parser onnx /content/convert-model-to-hailo/models/onnx/pose-recognition.onnx \\\n",
        "#   --hw-arch hailo8 \\\n",
        "#   --start-node-names input \\\n",
        "#   --end-node-names output\n",
        "\n",
        "# mkdir -p convert-model-to-hailo/models/har && \\\n",
        "# mv pose-recognition.har convert-model-to-hailo/models/har/\n"
      ],
      "metadata": {
        "id": "XQZ1pzqrUJXS"
      },
      "execution_count": null,
      "outputs": []
    },
    {
      "cell_type": "code",
      "source": [],
      "metadata": {
        "id": "hfAUJRuhkMcB"
      },
      "execution_count": null,
      "outputs": []
    },
    {
      "cell_type": "markdown",
      "source": [
        "## Optimisasi format .har biar bisa di konvert ke .hef"
      ],
      "metadata": {
        "id": "UiGJ2_Mwk6-w"
      }
    },
    {
      "cell_type": "markdown",
      "source": [
        "sebenarnya disini bisa pake flag --calib-path /path/gambar/lu untuk nge gantiin si --use-random-calib-set, klo pengen dataset RAW (gosah di labelin) test sendiri dengan split 50/50 buat setiap class yang ada. Ngaada aturan minimal gambar yang diperluuin."
      ],
      "metadata": {
        "id": "9H0PlCLOn894"
      }
    },
    {
      "cell_type": "code",
      "source": [
        "# # CALIBRATE\n",
        "# hailo optimize /content/convert-model-to-hailo/models/har/face-expression.har \\\n",
        "#   --hw-arch hailo8 \\\n",
        "#   --calib-set-path /content/convert-model-to-hailo/data/calibration/face_expression \\\n",
        "#   --output /content/convert-model-to-hailo/models/har/face-expression-opt.har\n",
        "\n",
        "# hailo optimize /content/convert-model-to-hailo/models/har/pose-recognition.har \\\n",
        "#   --hw-arch hailo8 \\\n",
        "#   --calib-set-path /content/convert-model-to-hailo/data/calibration/pose_recognition \\\n",
        "#   --output /content/convert-model-to-hailo/models/har/pose-recognition-opt.har\n",
        "\n",
        "# # UNCALIBRATE\n",
        "# hailo optimize /content/convert-model-to-hailo/models/har/face-expression.har \\\n",
        "#   --hw-arch hailo8 \\\n",
        "#   --use-random-calib-set \\\n",
        "#   --output /content/convert-model-to-hailo/models/har/face-expression-opt.har\n",
        "\n",
        "# hailo optimize /content/convert-model-to-hailo/models/har/pose-recognition.har \\\n",
        "#   --hw-arch hailo8 \\\n",
        "#   --use-random-calib-set \\\n",
        "#   --output /content/convert-model-to-hailo/models/har/pose-recognition-opt.har"
      ],
      "metadata": {
        "id": "as4Qv15Ik8XV"
      },
      "execution_count": null,
      "outputs": []
    },
    {
      "cell_type": "code",
      "source": [
        "# mkdir -p convert-model-to-hailo/models/hef/face-expression && \\\n",
        "# mkdir -p convert-model-to-hailo/models/hef/pose-recognition && \\\n",
        "\n",
        "# hailo compiler /content/convert-model-to-hailo/models/har/face-expression-opt.har \\\n",
        "#   --hw-arch hailo8 \\\n",
        "#   --output-dir /content/convert-model-to-hailo/models/hef/face-expression/\n",
        "\n",
        "# hailo compiler /content/convert-model-to-hailo/models/har/pose-recognition-opt.har \\\n",
        "#   --hw-arch hailo8 \\\n",
        "#   --output-dir /content/convert-model-to-hailo/models/hef/pose-recognition/"
      ],
      "metadata": {
        "id": "tPGrdA12knny"
      },
      "execution_count": null,
      "outputs": []
    },
    {
      "cell_type": "code",
      "source": [
        "!zip -r har_models.zip /content/convert-model-to-hailo/models/har/\n",
        "!zip -r hef_models.zip /content/convert-model-to-hailo/models/hef/"
      ],
      "metadata": {
        "id": "T5o6iGeDkm6W",
        "colab": {
          "base_uri": "https://localhost:8080/"
        },
        "outputId": "9163f4a8-534a-4a87-cf02-7f32ac77e7a6"
      },
      "execution_count": 5,
      "outputs": [
        {
          "output_type": "stream",
          "name": "stdout",
          "text": [
            "updating: content/convert-model-to-hailo/models/har/ (stored 0%)\n",
            "updating: content/convert-model-to-hailo/models/har/pose-recognition-opt.har (deflated 46%)\n",
            "updating: content/convert-model-to-hailo/models/har/.ipynb_checkpoints/ (stored 0%)\n",
            "updating: content/convert-model-to-hailo/models/har/face-expression.har (deflated 9%)\n",
            "updating: content/convert-model-to-hailo/models/har/face-expression-opt.har (deflated 42%)\n",
            "updating: content/convert-model-to-hailo/models/har/pose-recognition.har (deflated 9%)\n",
            "  adding: content/convert-model-to-hailo/models/hef/ (stored 0%)\n",
            "  adding: content/convert-model-to-hailo/models/hef/face-expression/ (stored 0%)\n",
            "  adding: content/convert-model-to-hailo/models/hef/face-expression/hailo_sdk.core.log (deflated 94%)\n",
            "  adding: content/convert-model-to-hailo/models/hef/face-expression/allocator.log (stored 0%)\n",
            "  adding: content/convert-model-to-hailo/models/hef/face-expression/face-expression.hef (deflated 29%)\n",
            "  adding: content/convert-model-to-hailo/models/hef/face-expression/face-expression_compiled.har (deflated 42%)\n",
            "  adding: content/convert-model-to-hailo/models/hef/pose-recognition/ (stored 0%)\n",
            "  adding: content/convert-model-to-hailo/models/hef/pose-recognition/pose-recognition.hef (deflated 30%)\n",
            "  adding: content/convert-model-to-hailo/models/hef/pose-recognition/hailo_sdk.core.log (deflated 94%)\n",
            "  adding: content/convert-model-to-hailo/models/hef/pose-recognition/allocator.log (stored 0%)\n",
            "  adding: content/convert-model-to-hailo/models/hef/pose-recognition/pose-recognition_compiled.har (deflated 45%)\n"
          ]
        }
      ]
    },
    {
      "cell_type": "code",
      "source": [],
      "metadata": {
        "id": "8-d7a37BrOSF"
      },
      "execution_count": null,
      "outputs": []
    }
  ]
}